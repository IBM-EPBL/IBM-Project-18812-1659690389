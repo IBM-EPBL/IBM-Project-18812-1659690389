{
  "nbformat": 4,
  "nbformat_minor": 0,
  "metadata": {
    "colab": {
      "provenance": []
    },
    "kernelspec": {
      "name": "python3",
      "display_name": "Python 3"
    },
    "language_info": {
      "name": "python"
    }
  },
  "cells": [
    {
      "cell_type": "code",
      "execution_count": null,
      "metadata": {
        "id": "H29gAboccxPK"
      },
      "outputs": [],
      "source": []
    },
    {
      "cell_type": "markdown",
      "source": [
        "**Exercises**\n",
        "\n",
        "Answer the questions or complete the tasks outlined in bold below, use the specific method described if applicable.\n",
        "\n",
        "What is 7 to the power of 4?"
      ],
      "metadata": {
        "id": "wQJvmBHicyI9"
      }
    },
    {
      "cell_type": "code",
      "source": [
        "\n",
        "7 **4\n"
      ],
      "metadata": {
        "colab": {
          "base_uri": "https://localhost:8080/"
        },
        "id": "EU-_M2PSc_ut",
        "outputId": "28f7757f-da5c-483a-f0dc-118fd98c00c5"
      },
      "execution_count": 1,
      "outputs": [
        {
          "output_type": "execute_result",
          "data": {
            "text/plain": [
              "2401"
            ]
          },
          "metadata": {},
          "execution_count": 1
        }
      ]
    },
    {
      "cell_type": "markdown",
      "source": [
        "Split this string:\n",
        "\n",
        "s = \"Hi there Sam!\"   into list."
      ],
      "metadata": {
        "id": "SOcgsVFHdHx1"
      }
    },
    {
      "cell_type": "code",
      "source": [
        "lst = \"Hi there Sam!\"\n",
        "print(lst.split())"
      ],
      "metadata": {
        "colab": {
          "base_uri": "https://localhost:8080/"
        },
        "id": "OlRNBkeOdSPk",
        "outputId": "ea055ae9-ed98-459f-a165-7d39d44cc866"
      },
      "execution_count": 2,
      "outputs": [
        {
          "output_type": "stream",
          "name": "stdout",
          "text": [
            "['Hi', 'there', 'Sam!']\n"
          ]
        }
      ]
    },
    {
      "cell_type": "markdown",
      "source": [
        "Given the variables:\n",
        "\n",
        "planet = \"Earth\"\n",
        "diameter = 12742\n",
        "\n",
        "Use .format() to print the following string:\n",
        "\n",
        "The diameter of Earth is 12742 kilometers."
      ],
      "metadata": {
        "id": "SRaW_q_udVgs"
      }
    },
    {
      "cell_type": "code",
      "source": [
        "planet = \"Earth\"\n",
        "diameter = 12742"
      ],
      "metadata": {
        "id": "xTEKdC1MdbPk"
      },
      "execution_count": 3,
      "outputs": []
    },
    {
      "cell_type": "code",
      "source": [
        "print(\"The diameter of {} is {} kilometers.\".format(planet,diameter))"
      ],
      "metadata": {
        "colab": {
          "base_uri": "https://localhost:8080/"
        },
        "id": "lLfe_xOTdi8V",
        "outputId": "0aa9c6e5-1fe9-4532-e564-e507df2044ac"
      },
      "execution_count": 4,
      "outputs": [
        {
          "output_type": "stream",
          "name": "stdout",
          "text": [
            "The diameter of Earth is 12742 kilometers.\n"
          ]
        }
      ]
    },
    {
      "cell_type": "markdown",
      "source": [
        "Given this nested list, use indexing to grab the word \"hello\""
      ],
      "metadata": {
        "id": "dQkYXcPPdpHc"
      }
    },
    {
      "cell_type": "code",
      "source": [
        "lst = [1,2,[3,4],[5,[100,200,['hello']],23,11],1,7]"
      ],
      "metadata": {
        "id": "qtF9iIzidq02"
      },
      "execution_count": 6,
      "outputs": []
    },
    {
      "cell_type": "code",
      "source": [
        "lst[3][1][2][0]"
      ],
      "metadata": {
        "colab": {
          "base_uri": "https://localhost:8080/",
          "height": 36
        },
        "id": "6sLTApQQduTU",
        "outputId": "b435a7af-e0aa-4509-b544-d152531f4205"
      },
      "execution_count": 7,
      "outputs": [
        {
          "output_type": "execute_result",
          "data": {
            "text/plain": [
              "'hello'"
            ],
            "application/vnd.google.colaboratory.intrinsic+json": {
              "type": "string"
            }
          },
          "metadata": {},
          "execution_count": 7
        }
      ]
    },
    {
      "cell_type": "markdown",
      "source": [
        "Given this nest dictionary grab the word \"hello\". Be prepared, this will be annoying/tricky"
      ],
      "metadata": {
        "id": "vCC2Mn0Zd2I9"
      }
    },
    {
      "cell_type": "code",
      "source": [
        "d = {'k1':[1,2,3,{'tricky':['oh','man','inception',{'target':[1,2,3,'hello']}]}]}"
      ],
      "metadata": {
        "id": "E0HY3s8kd5_9"
      },
      "execution_count": 8,
      "outputs": []
    },
    {
      "cell_type": "code",
      "source": [
        "d['k1'][3]['tricky'][3]['target'][3]"
      ],
      "metadata": {
        "colab": {
          "base_uri": "https://localhost:8080/",
          "height": 36
        },
        "id": "baZ-nZAWd9fl",
        "outputId": "76a909e5-8ea3-4a4f-9f63-2923788c4d21"
      },
      "execution_count": 9,
      "outputs": [
        {
          "output_type": "execute_result",
          "data": {
            "text/plain": [
              "'hello'"
            ],
            "application/vnd.google.colaboratory.intrinsic+json": {
              "type": "string"
            }
          },
          "metadata": {},
          "execution_count": 9
        }
      ]
    },
    {
      "cell_type": "markdown",
      "source": [
        "What is the main difference between a tuple and a list?\n",
        "\n",
        "Tuple is immutable"
      ],
      "metadata": {
        "id": "SEbraTlud__t"
      }
    },
    {
      "cell_type": "markdown",
      "source": [
        "Create a function that grabs the email website domain from a string in the form:\n",
        "\n",
        "user@domain.com\n",
        "\n",
        "So for example, passing \"user@domain.com\" would return: domain.com"
      ],
      "metadata": {
        "id": "b8-kdYMGeP-R"
      }
    },
    {
      "cell_type": "code",
      "source": [
        "def domainGet(email):\n",
        "    return email.split('@')[-1]"
      ],
      "metadata": {
        "id": "eY0JFWIIeSLG"
      },
      "execution_count": 11,
      "outputs": []
    },
    {
      "cell_type": "code",
      "source": [
        "domainGet('user@domain.com')"
      ],
      "metadata": {
        "colab": {
          "base_uri": "https://localhost:8080/",
          "height": 36
        },
        "id": "_FpNAEpGeXaW",
        "outputId": "bc2aeaa8-6170-401d-b159-d7711e29346e"
      },
      "execution_count": 12,
      "outputs": [
        {
          "output_type": "execute_result",
          "data": {
            "text/plain": [
              "'domain.com'"
            ],
            "application/vnd.google.colaboratory.intrinsic+json": {
              "type": "string"
            }
          },
          "metadata": {},
          "execution_count": 12
        }
      ]
    },
    {
      "cell_type": "markdown",
      "source": [
        "Create a basic function that returns True if the word 'dog' is contained in the input string. Don't worry about edge cases like a punctuation being attached to the word dog, but do account for capitalization."
      ],
      "metadata": {
        "id": "hNnDn-CWebyp"
      }
    },
    {
      "cell_type": "code",
      "source": [
        "def findDog(st):\n",
        "    return 'dog' in st.lower().split()"
      ],
      "metadata": {
        "id": "Igav-8MjeetV"
      },
      "execution_count": 13,
      "outputs": []
    },
    {
      "cell_type": "code",
      "source": [
        "findDog('Is there a dog here?')"
      ],
      "metadata": {
        "colab": {
          "base_uri": "https://localhost:8080/"
        },
        "id": "SRA8SlK1eiEj",
        "outputId": "44e3a5c2-a86d-4940-d0e0-aded345e0ebd"
      },
      "execution_count": 14,
      "outputs": [
        {
          "output_type": "execute_result",
          "data": {
            "text/plain": [
              "True"
            ]
          },
          "metadata": {},
          "execution_count": 14
        }
      ]
    },
    {
      "cell_type": "markdown",
      "source": [
        "Create a function that counts the number of times the word \"dog\" occurs in a string. Again ignore edge cases."
      ],
      "metadata": {
        "id": "N1F6eplgemNF"
      }
    },
    {
      "cell_type": "code",
      "source": [
        "def countDog(st):\n",
        "    count = 0\n",
        "    for word in st.lower().split():\n",
        "        if word == 'dog':\n",
        "            count += 1\n",
        "    return count"
      ],
      "metadata": {
        "id": "Y3r0jUwdeo2s"
      },
      "execution_count": 15,
      "outputs": []
    },
    {
      "cell_type": "code",
      "source": [
        "countDog('This dog runs faster than the other dog dude!')"
      ],
      "metadata": {
        "colab": {
          "base_uri": "https://localhost:8080/"
        },
        "id": "92-ZRE5Ner1d",
        "outputId": "a4d85721-4e18-460d-8c34-ff84bbb64a2d"
      },
      "execution_count": 16,
      "outputs": [
        {
          "output_type": "execute_result",
          "data": {
            "text/plain": [
              "2"
            ]
          },
          "metadata": {},
          "execution_count": 16
        }
      ]
    },
    {
      "cell_type": "markdown",
      "source": [
        "Problem\n",
        "\n",
        "You are driving a little too fast, and a police officer stops you. Write a function to return one of 3 possible results: \"No ticket\", \"Small ticket\", or \"Big Ticket\". If your speed is 60 or less, the result is \"No Ticket\". If speed is between 61 and 80 inclusive, the result is \"Small Ticket\". If speed is 81 or more, the result is \"Big Ticket\". Unless it is your birthday (encoded as a boolean value in the parameters of the function) -- on your birthday, your speed can be 5 higher in all cases."
      ],
      "metadata": {
        "id": "Mraqoyu6evTM"
      }
    },
    {
      "cell_type": "code",
      "source": [
        "def caught_speeding(speed, is_birthday):\n",
        "    \n",
        "    if is_birthday:\n",
        "        speeding = speed - 5\n",
        "    else:\n",
        "        speeding = speed\n",
        "    \n",
        "    if speeding > 80:\n",
        "        return 'Big Ticket'\n",
        "    elif speeding > 60:\n",
        "        return 'Small Ticket'\n",
        "    else:\n",
        "        return 'No Ticket'"
      ],
      "metadata": {
        "id": "ELY3FC6WeyCd"
      },
      "execution_count": 17,
      "outputs": []
    },
    {
      "cell_type": "code",
      "source": [
        "caught_speeding(81,False)"
      ],
      "metadata": {
        "colab": {
          "base_uri": "https://localhost:8080/",
          "height": 36
        },
        "id": "PN_M_JZMe1r1",
        "outputId": "18822b1f-26ac-4a6e-b70f-a6df4e2d55d7"
      },
      "execution_count": 18,
      "outputs": [
        {
          "output_type": "execute_result",
          "data": {
            "text/plain": [
              "'Big Ticket'"
            ],
            "application/vnd.google.colaboratory.intrinsic+json": {
              "type": "string"
            }
          },
          "metadata": {},
          "execution_count": 18
        }
      ]
    },
    {
      "cell_type": "code",
      "source": [
        "caught_speeding(81,True)"
      ],
      "metadata": {
        "colab": {
          "base_uri": "https://localhost:8080/",
          "height": 36
        },
        "id": "xcSq1kDqe4_l",
        "outputId": "8adcfadf-9e32-49d3-d721-17a50ebad729"
      },
      "execution_count": 19,
      "outputs": [
        {
          "output_type": "execute_result",
          "data": {
            "text/plain": [
              "'Small Ticket'"
            ],
            "application/vnd.google.colaboratory.intrinsic+json": {
              "type": "string"
            }
          },
          "metadata": {},
          "execution_count": 19
        }
      ]
    },
    {
      "cell_type": "markdown",
      "source": [
        "Create an employee list with basic salary values(at least 5 values for 5 employees) and using a for loop retreive each employee salary and calculate total salary expenditure."
      ],
      "metadata": {
        "id": "smnGUZtye8Ls"
      }
    },
    {
      "cell_type": "code",
      "source": [
        "a = {'empid1':1,'empname1':'nimal','basicpay1':2000,\n",
        "     'empid2':2,'empname2':'nishanth','basicpay2':1000,\n",
        "     'empid3':3,'empname3':'nitish','basicpay3':3000,\n",
        "     'empid4':4,'empname4':'chandra','basicpay4':2000,\n",
        "     'empid5':5,'empname5':'poondi raj','basicpay5':2000}\n",
        "b ={'dptname':'IT','dptid':12707}\n",
        "c = {}\n",
        "total = 0"
      ],
      "metadata": {
        "id": "d-RZS6wte_3d"
      },
      "execution_count": 20,
      "outputs": []
    },
    {
      "cell_type": "markdown",
      "source": [
        "Create two dictionaries in Python:\n",
        "\n",
        "First one to contain fields as Empid, Empname, Basicpay\n",
        "\n",
        "Second dictionary to contain fields as DeptName, DeptId.\n",
        "\n",
        "Combine both dictionaries."
      ],
      "metadata": {
        "id": "1Fis_E2YfMOU"
      }
    },
    {
      "cell_type": "code",
      "source": [
        "for i in (a,b):\n",
        "  c.update(i)\n",
        "avalue = c.values()\n",
        "alist = list(avalue)\n",
        "for i in range(2,15,3):\n",
        "    total+=alist[i]\n",
        "print(\"total salary expenditure\", total)"
      ],
      "metadata": {
        "colab": {
          "base_uri": "https://localhost:8080/"
        },
        "id": "Fz-PUZRPfPc5",
        "outputId": "3e03f9fc-65f1-434a-c2bb-b2bb4e1faa91"
      },
      "execution_count": 21,
      "outputs": [
        {
          "output_type": "stream",
          "name": "stdout",
          "text": [
            "total salary expenditure 10000\n"
          ]
        }
      ]
    }
  ]
}